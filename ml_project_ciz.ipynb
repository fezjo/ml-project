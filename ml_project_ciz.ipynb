{
  "nbformat": 4,
  "nbformat_minor": 0,
  "metadata": {
    "colab": {
      "provenance": [],
      "authorship_tag": "ABX9TyMMQIF7bT4AcLeCgp5XZSB3",
      "include_colab_link": true
    },
    "kernelspec": {
      "name": "python3",
      "display_name": "Python 3"
    },
    "language_info": {
      "name": "python"
    }
  },
  "cells": [
    {
      "cell_type": "markdown",
      "metadata": {
        "id": "view-in-github",
        "colab_type": "text"
      },
      "source": [
        "<a href=\"https://colab.research.google.com/github/fezjo/ml-project/blob/master/ml_project_ciz.ipynb\" target=\"_parent\"><img src=\"https://colab.research.google.com/assets/colab-badge.svg\" alt=\"Open In Colab\"/></a>"
      ]
    },
    {
      "cell_type": "code",
      "source": [],
      "metadata": {
        "id": "oXOqfWtiWh2G"
      },
      "execution_count": null,
      "outputs": []
    },
    {
      "cell_type": "code",
      "execution_count": null,
      "metadata": {
        "id": "5o8DwGNFJ42-"
      },
      "outputs": [],
      "source": [
        "from keras import layers\n",
        "\n",
        "vocab_size = 26*26\n",
        "\n",
        "# vectorize layer adapt to bigrams\n",
        "\n",
        "model = tf.keras.models.Sequential()\n",
        "model.add(tf.keras.Input(shape=(1,), dtype=tf.string))\n",
        "layers.TextVectorization(\n",
        "    ngrams=(2,),\n",
        "    output_sequence_length=???,)\n",
        ")\n",
        "layers.Embedding(\n",
        "    input_dim=vocab_size,\n",
        "    output_dim=???,) \n",
        "layers.Dropout(0.25)\n",
        "3,4,5 -> layers.Conv2D(\n",
        "layers.Activation(activations.selu)\n",
        "layers.MaxPooling1D(\n",
        "layers.Dense(300, activation=activations.softmax)\n",
        "layers.Dense(authors)"
      ]
    }
  ]
}